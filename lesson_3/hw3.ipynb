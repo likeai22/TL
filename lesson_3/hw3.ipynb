{
 "cells": [
  {
   "cell_type": "markdown",
   "id": "ec77f4f5",
   "metadata": {},
   "source": [
    "# Упрощаем использование TL. Фреймворк Huggingface"
   ]
  },
  {
   "metadata": {},
   "cell_type": "markdown",
   "source": "# Домашнее задание",
   "id": "12f961966e5390fb"
  },
  {
   "metadata": {},
   "cell_type": "markdown",
   "source": "## 1. Объясняем работу примера style transfer",
   "id": "f4745e3b2611df35"
  },
  {
   "metadata": {},
   "cell_type": "markdown",
   "source": [
    "**Transfer Learning и Style Transfer**\n",
    "\n",
    "Transfer Learning — это метод, который позволяет использовать уже обученные модели для новых задач. Это полезно, когда данных для обучения с нуля недостаточно.\n",
    "\n",
    "Каждое изображение состоит из содержания (основные формы и объекты) и стиля (цвета, текстуры, настроение). Цель переноса стиля — сохранить содержание одного изображения, изменив его стиль на другой. Для этого используются сверточные нейронные сети (CNN), которые распознают разные уровни абстракции: нижние слои — текстуры и контуры, верхние — сложные паттерны и стили.\n",
    "\n",
    "Для извлечения признаков из изображений содержания и стиля мы используем предварительно обученную CNN. Это помогает понять, что делает каждое изображение уникальным. Потом создаем новое изображение, которое сочетает в себе содержание одного изображения и стиль другого. Начинаем с случайного шума или копии изображения содержания и постепенно меняем его, минимизируя разницу в содержании и стиле используя методы оптимизации, такие как градиентный спуск.\n",
    "\n",
    "В итоге получается новое изображение, которое сохраняет содержание оригинала, но выглядит как будто выполнено в стиле другого. Например, фотография может выглядеть как картина Ван Гога, сохраняя при этом основные объекты и формы. Этот процесс создает красивые изображения и помогает в исследовании и интерпретации визуального искусства."
   ],
   "id": "e3b733ad79a8e8ab"
  },
  {
   "metadata": {},
   "cell_type": "markdown",
   "source": [
    "## 2. Реализуйте классификацию эмоциональной окрашенности текстов при помощи объекта pipeline.\n",
    "\n",
    "1. Найдите тип задач Sentiment Analysis на huggingface.co\n",
    "1. Найдите модель для русского языка (примеры: rubert-tiny2..., rubert-base...)"
   ],
   "id": "9c07cb5ae419615d"
  },
  {
   "cell_type": "code",
   "id": "6692d3f4e73a8141",
   "metadata": {
    "ExecuteTime": {
     "end_time": "2024-09-01T07:48:58.351159Z",
     "start_time": "2024-09-01T07:48:53.535980Z"
    }
   },
   "source": "import transformers",
   "outputs": [],
   "execution_count": 1
  },
  {
   "metadata": {
    "ExecuteTime": {
     "end_time": "2024-09-01T07:49:02.506038Z",
     "start_time": "2024-09-01T07:48:58.355165Z"
    }
   },
   "cell_type": "code",
   "source": [
    "# Инициализация объекта pipeline для анализа тональности с использованием модели для русского языка\n",
    "classifier = transformers.pipeline(\n",
    "    \"sentiment-analysis\", model=\"seara/rubert-tiny2-russian-sentiment\"\n",
    ")"
   ],
   "id": "1580ecf5af028aa4",
   "outputs": [],
   "execution_count": 2
  },
  {
   "metadata": {
    "ExecuteTime": {
     "end_time": "2024-09-01T07:49:02.522Z",
     "start_time": "2024-09-01T07:49:02.509003Z"
    }
   },
   "cell_type": "code",
   "source": [
    "# Примеры текстов для анализа\n",
    "texts = [\n",
    "    \"Отличный товар\",\n",
    "    \"Мне не понравилось\",\n",
    "    \"Прекрасно выглядит, ничего не меняйте!\",\n",
    "    \"Ничего не понял\",\n",
    "    \"У меня не работала розетка, в остальном все отлично\",\n",
    "]"
   ],
   "id": "d2964168f3819e1a",
   "outputs": [],
   "execution_count": 3
  },
  {
   "metadata": {
    "ExecuteTime": {
     "end_time": "2024-09-01T07:49:02.615981Z",
     "start_time": "2024-09-01T07:49:02.524056Z"
    }
   },
   "cell_type": "code",
   "source": [
    "# Выполнение классификации эмоциональной окрашенности текстов\n",
    "predictions = classifier(texts)"
   ],
   "id": "fd272883b6890125",
   "outputs": [],
   "execution_count": 4
  },
  {
   "metadata": {
    "ExecuteTime": {
     "end_time": "2024-09-01T07:49:02.630980Z",
     "start_time": "2024-09-01T07:49:02.621977Z"
    }
   },
   "cell_type": "code",
   "source": [
    "# Вывод результатов\n",
    "for text, prediction in zip(texts, predictions):\n",
    "    print(\n",
    "        f\"Текст: {text} -> Предсказание: {prediction['label']} (Score: {prediction['score']:.4f})\"\n",
    "    )"
   ],
   "id": "53f9ed3efcf5c9f2",
   "outputs": [
    {
     "name": "stdout",
     "output_type": "stream",
     "text": [
      "Текст: Отличный товар -> Предсказание: positive (Score: 0.9941)\n",
      "Текст: Мне не понравилось -> Предсказание: neutral (Score: 0.5912)\n",
      "Текст: Прекрасно выглядит, ничего не меняйте! -> Предсказание: positive (Score: 0.9389)\n",
      "Текст: Ничего не понял -> Предсказание: negative (Score: 0.5240)\n",
      "Текст: У меня не работала розетка, в остальном все отлично -> Предсказание: positive (Score: 0.6734)\n"
     ]
    }
   ],
   "execution_count": 5
  }
 ],
 "metadata": {
  "kernelspec": {
   "display_name": "Python 3 (ipykernel)",
   "language": "python",
   "name": "python3"
  },
  "language_info": {
   "codemirror_mode": {
    "name": "ipython",
    "version": 3
   },
   "file_extension": ".py",
   "mimetype": "text/x-python",
   "name": "python",
   "nbconvert_exporter": "python",
   "pygments_lexer": "ipython3",
   "version": "3.9.18"
  }
 },
 "nbformat": 4,
 "nbformat_minor": 5
}
